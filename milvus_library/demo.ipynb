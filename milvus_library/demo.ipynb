{
 "cells": [
  {
   "cell_type": "code",
   "execution_count": 1,
   "metadata": {},
   "outputs": [
    {
     "name": "stdout",
     "output_type": "stream",
     "text": [
      "Building \u001b[36mmilvus_library\u001b[39m (\u001b[39;1m1.0.0\u001b[39;22m)\n",
      "  - Building \u001b[34msdist\u001b[39m\n",
      "  - Built \u001b[32mmilvus_library-1.0.0.tar.gz\u001b[39m\n",
      "  - Building \u001b[34mwheel\u001b[39m\n",
      "  - Built \u001b[32mmilvus_library-1.0.0-py3-none-any.whl\u001b[39m\n"
     ]
    }
   ],
   "source": [
    "# Incase any changes are made to the milvus library, create a new build\n",
    "!poetry build"
   ]
  },
  {
   "cell_type": "code",
   "execution_count": 2,
   "metadata": {},
   "outputs": [
    {
     "name": "stdout",
     "output_type": "stream",
     "text": [
      "\u001b[33mWARNING: Ignoring invalid distribution ~lama-index-core (/opt/homebrew/lib/python3.12/site-packages)\u001b[0m\u001b[33m\n",
      "\u001b[0m\u001b[33mWARNING: Ignoring invalid distribution ~lama-index-core (/opt/homebrew/lib/python3.12/site-packages)\u001b[0m\u001b[33m\n",
      "\u001b[0mProcessing ./dist/milvus_library-1.0.0-py3-none-any.whl\n",
      "Requirement already satisfied: argon2-cffi==23.1.0 in /opt/homebrew/lib/python3.12/site-packages (from milvus-library==1.0.0) (23.1.0)\n",
      "Requirement already satisfied: argon2-cffi-bindings==21.2.0 in /opt/homebrew/lib/python3.12/site-packages (from milvus-library==1.0.0) (21.2.0)\n",
      "Requirement already satisfied: azure-core==1.30.1 in /opt/homebrew/lib/python3.12/site-packages (from milvus-library==1.0.0) (1.30.1)\n",
      "Requirement already satisfied: azure-storage-blob==12.20.0 in /opt/homebrew/lib/python3.12/site-packages (from milvus-library==1.0.0) (12.20.0)\n",
      "Requirement already satisfied: build==1.2.1 in /opt/homebrew/lib/python3.12/site-packages (from milvus-library==1.0.0) (1.2.1)\n",
      "Requirement already satisfied: cachecontrol==0.14.0 in /opt/homebrew/lib/python3.12/site-packages (from milvus-library==1.0.0) (0.14.0)\n",
      "Requirement already satisfied: certifi==2024.2.2 in /opt/homebrew/lib/python3.12/site-packages (from milvus-library==1.0.0) (2024.2.2)\n",
      "Requirement already satisfied: cffi==1.16.0 in /opt/homebrew/lib/python3.12/site-packages (from milvus-library==1.0.0) (1.16.0)\n",
      "Requirement already satisfied: charset-normalizer==3.3.2 in /opt/homebrew/lib/python3.12/site-packages (from milvus-library==1.0.0) (3.3.2)\n",
      "Requirement already satisfied: cleo==2.1.0 in /opt/homebrew/lib/python3.12/site-packages (from milvus-library==1.0.0) (2.1.0)\n",
      "Requirement already satisfied: crashtest==0.4.1 in /opt/homebrew/lib/python3.12/site-packages (from milvus-library==1.0.0) (0.4.1)\n",
      "Requirement already satisfied: cryptography==42.0.7 in /opt/homebrew/lib/python3.12/site-packages (from milvus-library==1.0.0) (42.0.7)\n",
      "Requirement already satisfied: distlib==0.3.8 in /opt/homebrew/lib/python3.12/site-packages (from milvus-library==1.0.0) (0.3.8)\n",
      "Requirement already satisfied: dulwich==0.21.7 in /opt/homebrew/lib/python3.12/site-packages (from milvus-library==1.0.0) (0.21.7)\n",
      "Requirement already satisfied: environs==9.5.0 in /opt/homebrew/lib/python3.12/site-packages (from milvus-library==1.0.0) (9.5.0)\n",
      "Requirement already satisfied: fastjsonschema==2.20.0 in /opt/homebrew/lib/python3.12/site-packages (from milvus-library==1.0.0) (2.20.0)\n",
      "Requirement already satisfied: filelock==3.15.4 in /opt/homebrew/lib/python3.12/site-packages (from milvus-library==1.0.0) (3.15.4)\n",
      "Requirement already satisfied: grpcio==1.60.0 in /opt/homebrew/lib/python3.12/site-packages (from milvus-library==1.0.0) (1.60.0)\n",
      "Requirement already satisfied: idna==3.7 in /opt/homebrew/lib/python3.12/site-packages (from milvus-library==1.0.0) (3.7)\n",
      "Requirement already satisfied: importlib-metadata==8.0.0 in /opt/homebrew/lib/python3.12/site-packages (from milvus-library==1.0.0) (8.0.0)\n",
      "Requirement already satisfied: installer==0.7.0 in /opt/homebrew/lib/python3.12/site-packages (from milvus-library==1.0.0) (0.7.0)\n",
      "Requirement already satisfied: isodate==0.6.1 in /opt/homebrew/lib/python3.12/site-packages (from milvus-library==1.0.0) (0.6.1)\n",
      "Requirement already satisfied: jaraco-classes==3.4.0 in /opt/homebrew/lib/python3.12/site-packages (from milvus-library==1.0.0) (3.4.0)\n",
      "Requirement already satisfied: keyring==24.3.1 in /opt/homebrew/lib/python3.12/site-packages (from milvus-library==1.0.0) (24.3.1)\n",
      "Requirement already satisfied: marshmallow==3.21.2 in /opt/homebrew/lib/python3.12/site-packages (from milvus-library==1.0.0) (3.21.2)\n",
      "Requirement already satisfied: minio==7.2.7 in /opt/homebrew/lib/python3.12/site-packages (from milvus-library==1.0.0) (7.2.7)\n",
      "Requirement already satisfied: more-itertools==10.3.0 in /opt/homebrew/lib/python3.12/site-packages (from milvus-library==1.0.0) (10.3.0)\n",
      "Requirement already satisfied: msgpack==1.0.8 in /opt/homebrew/lib/python3.12/site-packages (from milvus-library==1.0.0) (1.0.8)\n",
      "Requirement already satisfied: numpy==1.26.4 in /opt/homebrew/lib/python3.12/site-packages (from milvus-library==1.0.0) (1.26.4)\n",
      "Requirement already satisfied: packaging==24.0 in /opt/homebrew/lib/python3.12/site-packages (from milvus-library==1.0.0) (24.0)\n",
      "Requirement already satisfied: pandas==2.2.2 in /opt/homebrew/lib/python3.12/site-packages (from milvus-library==1.0.0) (2.2.2)\n",
      "Requirement already satisfied: pexpect==4.9.0 in /Users/nitheeshpradeep/Library/Python/3.12/lib/python/site-packages (from milvus-library==1.0.0) (4.9.0)\n",
      "Requirement already satisfied: pkginfo==1.11.1 in /opt/homebrew/lib/python3.12/site-packages (from milvus-library==1.0.0) (1.11.1)\n",
      "Requirement already satisfied: platformdirs==4.2.2 in /opt/homebrew/lib/python3.12/site-packages (from milvus-library==1.0.0) (4.2.2)\n",
      "Requirement already satisfied: poetry==1.8.3 in /opt/homebrew/lib/python3.12/site-packages (from milvus-library==1.0.0) (1.8.3)\n",
      "Requirement already satisfied: poetry-core==1.9.0 in /opt/homebrew/lib/python3.12/site-packages (from milvus-library==1.0.0) (1.9.0)\n",
      "Requirement already satisfied: poetry-plugin-export==1.8.0 in /opt/homebrew/lib/python3.12/site-packages (from milvus-library==1.0.0) (1.8.0)\n",
      "Requirement already satisfied: protobuf==5.26.1 in /opt/homebrew/lib/python3.12/site-packages (from milvus-library==1.0.0) (5.26.1)\n",
      "Requirement already satisfied: ptyprocess==0.7.0 in /Users/nitheeshpradeep/Library/Python/3.12/lib/python/site-packages (from milvus-library==1.0.0) (0.7.0)\n",
      "Requirement already satisfied: pyarrow==16.0.0 in /opt/homebrew/lib/python3.12/site-packages (from milvus-library==1.0.0) (16.0.0)\n",
      "Requirement already satisfied: pycparser==2.22 in /opt/homebrew/lib/python3.12/site-packages (from milvus-library==1.0.0) (2.22)\n",
      "Requirement already satisfied: pycryptodome==3.20.0 in /opt/homebrew/lib/python3.12/site-packages (from milvus-library==1.0.0) (3.20.0)\n",
      "Requirement already satisfied: pymilvus==2.4.1 in /opt/homebrew/lib/python3.12/site-packages (from milvus-library==1.0.0) (2.4.1)\n",
      "Requirement already satisfied: pyproject-hooks==1.1.0 in /opt/homebrew/lib/python3.12/site-packages (from milvus-library==1.0.0) (1.1.0)\n",
      "Requirement already satisfied: python-dateutil==2.9.0.post0 in /opt/homebrew/lib/python3.12/site-packages (from milvus-library==1.0.0) (2.9.0.post0)\n",
      "Requirement already satisfied: python-dotenv==1.0.1 in /opt/homebrew/lib/python3.12/site-packages (from milvus-library==1.0.0) (1.0.1)\n",
      "Requirement already satisfied: pytz==2024.1 in /opt/homebrew/lib/python3.12/site-packages (from milvus-library==1.0.0) (2024.1)\n",
      "Requirement already satisfied: rapidfuzz==3.9.4 in /opt/homebrew/lib/python3.12/site-packages (from milvus-library==1.0.0) (3.9.4)\n",
      "Requirement already satisfied: requests==2.31.0 in /opt/homebrew/lib/python3.12/site-packages (from milvus-library==1.0.0) (2.31.0)\n",
      "Requirement already satisfied: requests-toolbelt==1.0.0 in /opt/homebrew/lib/python3.12/site-packages (from milvus-library==1.0.0) (1.0.0)\n",
      "Requirement already satisfied: scipy==1.13.0 in /opt/homebrew/lib/python3.12/site-packages (from milvus-library==1.0.0) (1.13.0)\n",
      "Requirement already satisfied: shellingham==1.5.4 in /opt/homebrew/lib/python3.12/site-packages (from milvus-library==1.0.0) (1.5.4)\n",
      "Requirement already satisfied: six==1.16.0 in /opt/homebrew/lib/python3.12/site-packages (from milvus-library==1.0.0) (1.16.0)\n",
      "Requirement already satisfied: tomli==2.0.1 in /opt/homebrew/lib/python3.12/site-packages (from milvus-library==1.0.0) (2.0.1)\n",
      "Requirement already satisfied: tomlkit==0.13.0 in /opt/homebrew/lib/python3.12/site-packages (from milvus-library==1.0.0) (0.13.0)\n",
      "Requirement already satisfied: trove-classifiers==2024.7.2 in /opt/homebrew/lib/python3.12/site-packages (from milvus-library==1.0.0) (2024.7.2)\n",
      "Requirement already satisfied: typing-extensions==4.11.0 in /opt/homebrew/lib/python3.12/site-packages (from milvus-library==1.0.0) (4.11.0)\n",
      "Requirement already satisfied: tzdata==2024.1 in /opt/homebrew/lib/python3.12/site-packages (from milvus-library==1.0.0) (2024.1)\n",
      "Requirement already satisfied: ujson==5.9.0 in /opt/homebrew/lib/python3.12/site-packages (from milvus-library==1.0.0) (5.9.0)\n",
      "Requirement already satisfied: urllib3==2.2.1 in /opt/homebrew/lib/python3.12/site-packages (from milvus-library==1.0.0) (2.2.1)\n",
      "Requirement already satisfied: virtualenv==20.26.3 in /opt/homebrew/lib/python3.12/site-packages (from milvus-library==1.0.0) (20.26.3)\n",
      "Requirement already satisfied: xattr==1.1.0 in /opt/homebrew/lib/python3.12/site-packages (from milvus-library==1.0.0) (1.1.0)\n",
      "Requirement already satisfied: zipp==3.19.2 in /opt/homebrew/lib/python3.12/site-packages (from milvus-library==1.0.0) (3.19.2)\n",
      "Requirement already satisfied: setuptools>=67 in /opt/homebrew/lib/python3.12/site-packages (from pymilvus==2.4.1->milvus-library==1.0.0) (69.5.1)\n",
      "milvus-library is already installed with the same version as the provided wheel. Use --force-reinstall to force an installation of the wheel.\n",
      "\u001b[33mWARNING: Ignoring invalid distribution ~lama-index-core (/opt/homebrew/lib/python3.12/site-packages)\u001b[0m\u001b[33m\n",
      "\u001b[0m\u001b[33mWARNING: Ignoring invalid distribution ~lama-index-core (/opt/homebrew/lib/python3.12/site-packages)\u001b[0m\u001b[33m\n",
      "\u001b[0m\n",
      "\u001b[1m[\u001b[0m\u001b[34;49mnotice\u001b[0m\u001b[1;39;49m]\u001b[0m\u001b[39;49m A new release of pip is available: \u001b[0m\u001b[31;49m24.0\u001b[0m\u001b[39;49m -> \u001b[0m\u001b[32;49m24.2\u001b[0m\n",
      "\u001b[1m[\u001b[0m\u001b[34;49mnotice\u001b[0m\u001b[1;39;49m]\u001b[0m\u001b[39;49m To update, run: \u001b[0m\u001b[32;49mpython3.12 -m pip install --upgrade pip\u001b[0m\n",
      "Note: you may need to restart the kernel to use updated packages.\n"
     ]
    }
   ],
   "source": [
    "# Install the milvus library build pkg generated using poetry\n",
    "\n",
    "%pip install dist/milvus_library-1.0.0-py3-none-any.whl"
   ]
  },
  {
   "cell_type": "code",
   "execution_count": null,
   "metadata": {},
   "outputs": [],
   "source": [
    "# User input the values of crn, platform type, database name, service name\n",
    "import pkg_resources, configparser\n",
    "\n",
    "file_path = pkg_resources.resource_filename(\"milvus_library\", \"config.properties\")\n",
    "config=configparser.ConfigParser()\n",
    "config.read(file_path)\n",
    "\n",
    "platform = input(\"Platform type: \")\n",
    "database = input(\"Database name: \")\n",
    "service_name = input(\"Milvus service name: \")\n",
    "connection_type = input(\"Connection Type:\")\n",
    "\n",
    "# Print the values:\n",
    "print(f\"service_name: {service_name}\")\n",
    "print(f\"platform: {platform}\")\n",
    "print(f\"database: {database}\")\n",
    "print(f\"connection type: {connection_type}\")\n",
    "\n",
    "# Setting the config property values\n",
    "config.set(\"GENERAL\", \"platform\", platform)\n",
    "config.set(\"GENERAL\", \"database\", database)\n",
    "config.set(\"GENERAL\", \"service_name\", service_name)\n",
    "config.set(\"GENERAL\", \"connection_type\", connection_type)\n",
    "\n",
    "if platform == \"saas\":\n",
    "    # User inputs\n",
    "    crn = input(\"Wxd crn: \")\n",
    "    password = input(\"API key: \")\n",
    "    print(f\"crn: {crn}\")\n",
    "    #print(f\"password: {password}\")\n",
    "    config.set(\"SAAS\", \"password\", password)\n",
    "    config.set(\"SAAS\", \"crn\", crn)\n",
    "\n",
    "if platform == \"cpd\":\n",
    "    cpd_url = input(\"cpd_url: \")\n",
    "    password = input(\"password: \")\n",
    "    instanceid = input(\"instanceid: \")\n",
    "\n",
    "    print(f\"cpd_url: {cpd_url}\")\n",
    "    print(f\"password: {password}\")\n",
    "    print(f\"instanceid: {instanceid}\")\n",
    "    config.set(\"CPD\", \"cpd_url\", cpd_url)\n",
    "    config.set(\"CPD\", \"password\", password)\n",
    "    config.set(\"CPD\", \"instanceid\", instanceid)\n",
    "\n",
    "# writing the config properties to the file\n",
    "with open(file_path, \"w\") as configfile:\n",
    "    config.write(configfile)"
   ]
  },
  {
   "cell_type": "code",
   "execution_count": null,
   "metadata": {},
   "outputs": [],
   "source": [
    "import milvus_library.getConfigProperties"
   ]
  },
  {
   "cell_type": "code",
   "execution_count": 4,
   "metadata": {},
   "outputs": [
    {
     "name": "stdout",
     "output_type": "stream",
     "text": [
      "\n",
      "=== Reading the Config Properties  ===\n",
      "\n",
      "CRN: crn:v1:staging:public:lakehouse:us-south:a/781f752068d44638a3b2a13de58d3cfe:d8812e3d-e752-4586-8dcd-949f305554b6::\n",
      "\n",
      "=== Sending the request to url: https://us-south.lakehouse.dev.cloud.ibm.com/lakehouse/api/v2/milvus_services ===\n",
      "\n",
      "\n",
      "=== API response received          ===\n",
      "\n",
      "Service Display Name: Milvus\n"
     ]
    },
    {
     "ename": "KeyError",
     "evalue": "'milvus_services'",
     "output_type": "error",
     "traceback": [
      "\u001b[0;31m---------------------------------------------------------------------------\u001b[0m",
      "\u001b[0;31mKeyError\u001b[0m                                  Traceback (most recent call last)",
      "Cell \u001b[0;32mIn[4], line 1\u001b[0m\n\u001b[0;32m----> 1\u001b[0m \u001b[38;5;28;01mimport\u001b[39;00m \u001b[38;5;21;01mpkg_resources\u001b[39;00m\u001b[38;5;241m,\u001b[39m \u001b[38;5;21;01mmilvus_library\u001b[39;00m\u001b[38;5;241m,\u001b[39m\u001b[38;5;21;01mmilvus_library\u001b[39;00m\u001b[38;5;21;01m.\u001b[39;00m\u001b[38;5;21;01mmilvusRunner\u001b[39;00m\u001b[38;5;241m,\u001b[39m \u001b[38;5;21;01mconfigparser\u001b[39;00m\n\u001b[1;32m      3\u001b[0m file_path \u001b[38;5;241m=\u001b[39m pkg_resources\u001b[38;5;241m.\u001b[39mresource_filename(\u001b[38;5;124m\"\u001b[39m\u001b[38;5;124mmilvus_library\u001b[39m\u001b[38;5;124m\"\u001b[39m, \u001b[38;5;124m\"\u001b[39m\u001b[38;5;124mconfig.properties\u001b[39m\u001b[38;5;124m\"\u001b[39m)\n\u001b[1;32m      5\u001b[0m config\u001b[38;5;241m=\u001b[39mconfigparser\u001b[38;5;241m.\u001b[39mConfigParser()\n",
      "File \u001b[0;32m~/Documents/watsonx-data/milvus_library/milvus_library/milvusRunner.py:2\u001b[0m\n\u001b[1;32m      1\u001b[0m \u001b[38;5;28;01mimport\u001b[39;00m \u001b[38;5;21;01mpkg_resources\u001b[39;00m\n\u001b[0;32m----> 2\u001b[0m \u001b[38;5;28;01mimport\u001b[39;00m \u001b[38;5;21;01mmilvus_library\u001b[39;00m\u001b[38;5;21;01m.\u001b[39;00m\u001b[38;5;21;01mgetEngineDetails\u001b[39;00m \u001b[38;5;28;01mas\u001b[39;00m \u001b[38;5;21;01mgetEngineDetails\u001b[39;00m\u001b[38;5;241m,\u001b[39m \u001b[38;5;21;01mmilvus_library\u001b[39;00m\u001b[38;5;21;01m.\u001b[39;00m\u001b[38;5;21;01mgetInstanceDetails\u001b[39;00m \u001b[38;5;28;01mas\u001b[39;00m \u001b[38;5;21;01mgetInstanceDetails\u001b[39;00m\u001b[38;5;241m,\u001b[39m \u001b[38;5;21;01mconfigparser\u001b[39;00m\u001b[38;5;241m,\u001b[39m \u001b[38;5;21;01mmilvus_library\u001b[39;00m\u001b[38;5;21;01m.\u001b[39;00m\u001b[38;5;21;01mmilvusConnect\u001b[39;00m \u001b[38;5;28;01mas\u001b[39;00m \u001b[38;5;21;01mmilvusConnect\u001b[39;00m\n\u001b[1;32m      3\u001b[0m \u001b[38;5;66;03m#import milvus_library.connection as connection,\u001b[39;00m\n\u001b[1;32m      5\u001b[0m \u001b[38;5;28;01mdef\u001b[39;00m \u001b[38;5;21mmain\u001b[39m(crn, database, service_name, connection_type, platform):\n",
      "File \u001b[0;32m~/Documents/watsonx-data/milvus_library/milvus_library/getEngineDetails.py:105\u001b[0m\n\u001b[1;32m    101\u001b[0m         \u001b[38;5;28;01mwith\u001b[39;00m \u001b[38;5;28mopen\u001b[39m(file_path, \u001b[38;5;124m'\u001b[39m\u001b[38;5;124mw\u001b[39m\u001b[38;5;124m'\u001b[39m) \u001b[38;5;28;01mas\u001b[39;00m config_file:\n\u001b[1;32m    102\u001b[0m                 config\u001b[38;5;241m.\u001b[39mwrite(config_file)\n\u001b[0;32m--> 105\u001b[0m \u001b[43mgetEngineDetails\u001b[49m\u001b[43m(\u001b[49m\u001b[43mfile_path\u001b[49m\u001b[43m)\u001b[49m\n",
      "File \u001b[0;32m~/Documents/watsonx-data/milvus_library/milvus_library/getEngineDetails.py:84\u001b[0m, in \u001b[0;36mgetEngineDetails\u001b[0;34m(file_path)\u001b[0m\n\u001b[1;32m     82\u001b[0m service_display_name \u001b[38;5;241m=\u001b[39m config\u001b[38;5;241m.\u001b[39mget(\u001b[38;5;124m\"\u001b[39m\u001b[38;5;124mGENERAL\u001b[39m\u001b[38;5;124m\"\u001b[39m,\u001b[38;5;124m\"\u001b[39m\u001b[38;5;124mservice_name\u001b[39m\u001b[38;5;124m\"\u001b[39m)\n\u001b[1;32m     83\u001b[0m \u001b[38;5;28mprint\u001b[39m(\u001b[38;5;124mf\u001b[39m\u001b[38;5;124m\"\u001b[39m\u001b[38;5;124mService Display Name: \u001b[39m\u001b[38;5;132;01m{\u001b[39;00mservice_display_name\u001b[38;5;132;01m}\u001b[39;00m\u001b[38;5;124m\"\u001b[39m)\n\u001b[0;32m---> 84\u001b[0m service_data \u001b[38;5;241m=\u001b[39m \u001b[38;5;28mnext\u001b[39m((service \u001b[38;5;28;01mfor\u001b[39;00m service \u001b[38;5;129;01min\u001b[39;00m \u001b[43mjson_data\u001b[49m\u001b[43m[\u001b[49m\u001b[38;5;124;43m\"\u001b[39;49m\u001b[38;5;124;43mmilvus_services\u001b[39;49m\u001b[38;5;124;43m\"\u001b[39;49m\u001b[43m]\u001b[49m \u001b[38;5;28;01mif\u001b[39;00m service[\u001b[38;5;124m\"\u001b[39m\u001b[38;5;124mservice_display_name\u001b[39m\u001b[38;5;124m\"\u001b[39m] \u001b[38;5;241m==\u001b[39m service_display_name), \u001b[38;5;28;01mNone\u001b[39;00m)\n\u001b[1;32m     86\u001b[0m grpc_host \u001b[38;5;241m=\u001b[39m service_data[\u001b[38;5;124m\"\u001b[39m\u001b[38;5;124mgrpc_host\u001b[39m\u001b[38;5;124m\"\u001b[39m]\n\u001b[1;32m     87\u001b[0m grpc_port \u001b[38;5;241m=\u001b[39m service_data[\u001b[38;5;124m\"\u001b[39m\u001b[38;5;124mgrpc_port\u001b[39m\u001b[38;5;124m\"\u001b[39m]\n",
      "\u001b[0;31mKeyError\u001b[0m: 'milvus_services'"
     ]
    }
   ],
   "source": [
    "import pkg_resources, milvus_library,milvus_library.milvusRunner, configparser\n",
    "\n",
    "file_path = pkg_resources.resource_filename(\"milvus_library\", \"config.properties\")\n",
    "\n",
    "config=configparser.ConfigParser()\n",
    "config.read(file_path)\n",
    "password = input(\"Enter API Key\")\n",
    "config.set(\"SAAS\", \"password\", password)\n",
    "\n",
    " \n",
    "milvus_client = milvus_library.milvusRunner.main(\n",
    "\n",
    "    crn= \"crn:v1:staging:public:lakehouse:us-south:a/781f752068d44638a3b2a13de58d3cfe:d8812e3d-e752-4586-8dcd-949f305554b6::\",\n",
    "    service_name=\"Milvus\",\n",
    "    database=\"default\",\n",
    "    connection_type=\"milvusclient\",\n",
    "    platform = \"saas\"\n",
    ")\n",
    "\n",
    "package_name = \"milvus_library\"\n",
    "\n",
    "try:\n",
    "    files = pkg_resources.resource_listdir(\"milvus_library\", \"\")\n",
    "    print(f\"{files}\")\n",
    "except pkg_resources.DistributionNotFound:\n",
    "    print(\"not found\")"
   ]
  },
  {
   "cell_type": "code",
   "execution_count": null,
   "metadata": {},
   "outputs": [],
   "source": [
    "milvus_client.list_collections()"
   ]
  },
  {
   "cell_type": "code",
   "execution_count": null,
   "metadata": {},
   "outputs": [],
   "source": [
    "# After milvus connection is established, users can create a new databases\n",
    "# Note: Database name MUST be unique\n",
    "from pymilvus import db\n",
    "\n",
    "# List the existing databases associated with current milvus service\n",
    "db.list_database()"
   ]
  },
  {
   "cell_type": "code",
   "execution_count": null,
   "metadata": {},
   "outputs": [],
   "source": [
    "from pymilvus import db\n",
    "# Create a new database in the milvus service\n",
    "db.create_database(\"demo_db1\")\n"
   ]
  },
  {
   "cell_type": "code",
   "execution_count": null,
   "metadata": {},
   "outputs": [],
   "source": [
    "from pymilvus import db\n",
    "# Delete a database\n",
    "db.drop_database(\"demo_db\")"
   ]
  }
 ],
 "metadata": {
  "kernelspec": {
   "display_name": "milvus_venv",
   "language": "python",
   "name": "python3"
  },
  "language_info": {
   "codemirror_mode": {
    "name": "ipython",
    "version": 3
   },
   "file_extension": ".py",
   "mimetype": "text/x-python",
   "name": "python",
   "nbconvert_exporter": "python",
   "pygments_lexer": "ipython3",
   "version": "3.12.4"
  }
 },
 "nbformat": 4,
 "nbformat_minor": 2
}
